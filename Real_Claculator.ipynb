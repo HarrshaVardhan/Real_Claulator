{
 "cells": [
  {
   "cell_type": "code",
   "execution_count": null,
   "metadata": {},
   "outputs": [],
   "source": [
    "# College Finder Project 4 : Real Calculator \n",
    "\n",
    "number1= float(input(\"Enter first number :\"))\n",
    "number2= float(input(\"Enter the second number :\"))\n",
    "\n",
    "operator = input(\"Enter operator :\")\n",
    "\n",
    "def add(a,b):\n",
    "    addition = a+b\n",
    "    print(f\"The sum of {a} and {b} is {addition}\") \n",
    "    \n",
    "def subtract(a,b):\n",
    "    subtraction = a-b\n",
    "    print(f\"The result of subtracting {b} from {a} is {subtraction}\")\n",
    "\n",
    "def multiply(a,b):\n",
    "    multiplication = a*b\n",
    "    print(f\"The multiplication of {a} and {b} is {multiplication}\")\n",
    "\n",
    "def division(a,b):\n",
    "    division = a/b\n",
    "    print(f\"The sum of {a} and {b} is {division}\")\n",
    "\n",
    "if operator == '+':\n",
    "    add(number1,number2)\n",
    "    \n",
    "elif operator == '-':\n",
    "    subtract(number1,number2)\n",
    "    \n",
    "elif operator == '*':\n",
    "    multiply(number1,number2)\n",
    "    \n",
    "elif operator == '/':\n",
    "    division(number1,number2)\n",
    "\n",
    "elif operator == '%':\n",
    "    modulus(number1,number2)\n",
    "    \n",
    "else:\n",
    "    print(\"Invalid Input\")\n",
    "    "
   ]
  },
  {
   "cell_type": "code",
   "execution_count": null,
   "metadata": {},
   "outputs": [],
   "source": []
  }
 ],
 "metadata": {
  "kernelspec": {
   "display_name": "Python 3",
   "language": "python",
   "name": "python3"
  },
  "language_info": {
   "codemirror_mode": {
    "name": "ipython",
    "version": 3
   },
   "file_extension": ".py",
   "mimetype": "text/x-python",
   "name": "python",
   "nbconvert_exporter": "python",
   "pygments_lexer": "ipython3",
   "version": "3.8.5"
  }
 },
 "nbformat": 4,
 "nbformat_minor": 4
}
